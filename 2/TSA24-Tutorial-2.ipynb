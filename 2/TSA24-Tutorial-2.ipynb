{
 "cells": [
  {
   "cell_type": "markdown",
   "id": "13f858e4",
   "metadata": {},
   "source": [
    "# Time Series Analysis: Tutorial 2"
   ]
  },
  {
   "cell_type": "markdown",
   "id": "fa62d682",
   "metadata": {},
   "source": [
    "We have two options to model the long term component of a time series:\n",
    "    \n",
    "    1. Parametric (global) approach\n",
    "    2. Flexible (local) approach\n",
    "    \n",
    "In this tutorial we follow the second approach and model the long term trend using flexible approaches. We investigate further on the following options:\n",
    "\n",
    "- Moving Averages \n",
    "- Hodrick-Prescott Filter\n",
    "\n",
    "Terminology: \n",
    "\n",
    "- Smoothing: determining $L_t$ or $G_t$\n",
    "- Filtering: Remove $S_t$ or $I_t$"
   ]
  },
  {
   "cell_type": "markdown",
   "id": "00c9d48e",
   "metadata": {},
   "source": [
    "## Import packages"
   ]
  },
  {
   "cell_type": "code",
   "execution_count": 27,
   "id": "5e7dc575",
   "metadata": {},
   "outputs": [],
   "source": [
    "import numpy as np\n",
    "import math\n",
    "import matplotlib.pyplot as plt\n",
    "plt.style.use('ggplot')\n",
    "plt.rc('text', usetex=True)\n",
    "import pandas as pd\n",
    "import statsmodels.api as sm"
   ]
  },
  {
   "cell_type": "markdown",
   "id": "5c518ebb",
   "metadata": {},
   "source": [
    "## Data"
   ]
  },
  {
   "cell_type": "code",
   "execution_count": 1,
   "id": "be327e2b",
   "metadata": {},
   "outputs": [],
   "source": [
    "# Load the oil-, Siemens-, production- and unemployment-datasets."
   ]
  },
  {
   "cell_type": "code",
   "execution_count": 2,
   "id": "9b9e7955",
   "metadata": {},
   "outputs": [],
   "source": [
    "# Plot the crude oil import price index."
   ]
  },
  {
   "cell_type": "markdown",
   "id": "050be11d",
   "metadata": {},
   "source": [
    "## Exponentially weighted moving average"
   ]
  },
  {
   "cell_type": "code",
   "execution_count": 3,
   "id": "795313e8",
   "metadata": {},
   "outputs": [],
   "source": [
    "# Generate smoothed data via exponentially weighted moving average (EWMA) for the crude oil import price index"
   ]
  },
  {
   "cell_type": "markdown",
   "id": "2fa83886",
   "metadata": {},
   "source": [
    "Is the model appropriate to predict the oil price? Justify with the help of the graph, in particular, investigate the years after 2004. In order to answer this question you should consider the properties of exponential smoothing where we smooth the observed data $\\{x_t\\}_{t=1}^n$ via\n",
    "\n",
    "\\begin{align}\n",
    "y_0&=x_0\\\\\n",
    "y_t&=\\alpha x_t+(1-\\alpha)y_{t-1}\\text{ for } t\\geqslant1\n",
    "\\end{align}\n",
    "\n",
    "and some $\\alpha\\in(0,1)$ in order to obtain smoothed data $\\{y_t\\}_{t=1}^n$."
   ]
  },
  {
   "cell_type": "code",
   "execution_count": null,
   "id": "c1457d69",
   "metadata": {},
   "outputs": [],
   "source": [
    "# is the specified EWMA model appropriate for forecasting the oil price? Why is this the case? "
   ]
  },
  {
   "cell_type": "markdown",
   "id": "c3b5a793",
   "metadata": {},
   "source": [
    "## Combining a linear trend with smoothing"
   ]
  },
  {
   "cell_type": "code",
   "execution_count": null,
   "id": "b0c4ccc0",
   "metadata": {},
   "outputs": [],
   "source": [
    "# Calculate the EWMA. Use the first observation as the initial value and α =.3 as the smoothing parameter."
   ]
  },
  {
   "cell_type": "code",
   "execution_count": null,
   "id": "e165d3aa",
   "metadata": {},
   "outputs": [],
   "source": [
    "# Plot the original series and the smoothed series."
   ]
  },
  {
   "cell_type": "code",
   "execution_count": 4,
   "id": "0efa0738",
   "metadata": {
    "scrolled": false
   },
   "outputs": [],
   "source": [
    "# Now first estimate the deterministic linear trend, detrend the series and then smooth the detrended series\n",
    "# using EWMA with alpha=0.3. Plot your results."
   ]
  },
  {
   "cell_type": "code",
   "execution_count": 5,
   "id": "dd8ca262",
   "metadata": {},
   "outputs": [],
   "source": [
    "#Now first estimate the deterministic quadratic trend, detrend the series and then smooth the detrended series\n",
    "#using EWMA with alpha=0.3. Plot your results."
   ]
  },
  {
   "cell_type": "markdown",
   "id": "1be4fbe5",
   "metadata": {},
   "source": [
    "## Hodrick-Prescott filter"
   ]
  },
  {
   "cell_type": "code",
   "execution_count": 6,
   "id": "14be2c7e",
   "metadata": {},
   "outputs": [],
   "source": [
    "# Plot the prod-data. What can you say about the yearly frequency? "
   ]
  },
  {
   "cell_type": "code",
   "execution_count": 7,
   "id": "c8734663",
   "metadata": {},
   "outputs": [],
   "source": [
    "# Use the statsmodels command hpfilter to estimate the smoothed series for the prod-data.\n",
    "# What does the command return?"
   ]
  },
  {
   "cell_type": "markdown",
   "id": "7890ea52",
   "metadata": {},
   "source": [
    "## Seasonal Adjustment"
   ]
  },
  {
   "cell_type": "markdown",
   "id": "eafb1ba7",
   "metadata": {},
   "source": [
    "Our goal is to detect all seasonality in the data and eliminate the seasonal effects. In order to do so we assume a multiplicative model\n",
    "\n",
    "\\begin{align}\n",
    "y_t=L_t\\cdot C_t\\cdot S_t\\cdot I_t\n",
    "\\end{align}\n",
    "\n",
    "What are the steps we have to follow in order to estimate the seasonal component?"
   ]
  },
  {
   "cell_type": "code",
   "execution_count": 10,
   "id": "504bed17",
   "metadata": {},
   "outputs": [],
   "source": [
    "# Plot the unemployment-data against time. What seasonality (i.e. which order) can you detect?"
   ]
  },
  {
   "cell_type": "code",
   "execution_count": 11,
   "id": "9221c3a4",
   "metadata": {},
   "outputs": [],
   "source": [
    "# Compute the trend via a simple moving average. Plot the trend against the original data."
   ]
  },
  {
   "cell_type": "code",
   "execution_count": 13,
   "id": "7a518ff5",
   "metadata": {},
   "outputs": [],
   "source": [
    "# Plot the seasonally adjusted series against the original series together with the smoothed series."
   ]
  }
 ],
 "metadata": {
  "kernelspec": {
   "display_name": "Python 3 (ipykernel)",
   "language": "python",
   "name": "python3"
  },
  "language_info": {
   "codemirror_mode": {
    "name": "ipython",
    "version": 3
   },
   "file_extension": ".py",
   "mimetype": "text/x-python",
   "name": "python",
   "nbconvert_exporter": "python",
   "pygments_lexer": "ipython3",
   "version": "3.9.12"
  }
 },
 "nbformat": 4,
 "nbformat_minor": 5
}
